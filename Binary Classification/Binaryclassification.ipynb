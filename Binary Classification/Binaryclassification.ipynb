{
 "cells": [
  {
   "cell_type": "markdown",
   "metadata": {},
   "source": [
    "### Binary Classification with Keras"
   ]
  },
  {
   "cell_type": "code",
   "execution_count": 1,
   "metadata": {},
   "outputs": [],
   "source": [
    "from warnings import filterwarnings\n",
    "filterwarnings('ignore')"
   ]
  },
  {
   "cell_type": "markdown",
   "metadata": {},
   "source": [
    "#### Read the train Dataset"
   ]
  },
  {
   "cell_type": "code",
   "execution_count": 2,
   "metadata": {},
   "outputs": [
    {
     "data": {
      "text/html": [
       "<div>\n",
       "<style scoped>\n",
       "    .dataframe tbody tr th:only-of-type {\n",
       "        vertical-align: middle;\n",
       "    }\n",
       "\n",
       "    .dataframe tbody tr th {\n",
       "        vertical-align: top;\n",
       "    }\n",
       "\n",
       "    .dataframe thead th {\n",
       "        text-align: right;\n",
       "    }\n",
       "</style>\n",
       "<table border=\"1\" class=\"dataframe\">\n",
       "  <thead>\n",
       "    <tr style=\"text-align: right;\">\n",
       "      <th></th>\n",
       "      <th>id</th>\n",
       "      <th>age</th>\n",
       "      <th>height(cm)</th>\n",
       "      <th>weight(kg)</th>\n",
       "      <th>waist(cm)</th>\n",
       "      <th>eyesight(left)</th>\n",
       "      <th>eyesight(right)</th>\n",
       "      <th>hearing(left)</th>\n",
       "      <th>hearing(right)</th>\n",
       "      <th>systolic</th>\n",
       "      <th>...</th>\n",
       "      <th>HDL</th>\n",
       "      <th>LDL</th>\n",
       "      <th>hemoglobin</th>\n",
       "      <th>Urine protein</th>\n",
       "      <th>serum creatinine</th>\n",
       "      <th>AST</th>\n",
       "      <th>ALT</th>\n",
       "      <th>Gtp</th>\n",
       "      <th>dental caries</th>\n",
       "      <th>smoking</th>\n",
       "    </tr>\n",
       "  </thead>\n",
       "  <tbody>\n",
       "    <tr>\n",
       "      <th>0</th>\n",
       "      <td>0</td>\n",
       "      <td>55</td>\n",
       "      <td>165</td>\n",
       "      <td>60</td>\n",
       "      <td>81.0</td>\n",
       "      <td>0.5</td>\n",
       "      <td>0.6</td>\n",
       "      <td>1</td>\n",
       "      <td>1</td>\n",
       "      <td>135</td>\n",
       "      <td>...</td>\n",
       "      <td>40</td>\n",
       "      <td>75</td>\n",
       "      <td>16.5</td>\n",
       "      <td>1</td>\n",
       "      <td>1.0</td>\n",
       "      <td>22</td>\n",
       "      <td>25</td>\n",
       "      <td>27</td>\n",
       "      <td>0</td>\n",
       "      <td>1</td>\n",
       "    </tr>\n",
       "    <tr>\n",
       "      <th>1</th>\n",
       "      <td>1</td>\n",
       "      <td>70</td>\n",
       "      <td>165</td>\n",
       "      <td>65</td>\n",
       "      <td>89.0</td>\n",
       "      <td>0.6</td>\n",
       "      <td>0.7</td>\n",
       "      <td>2</td>\n",
       "      <td>2</td>\n",
       "      <td>146</td>\n",
       "      <td>...</td>\n",
       "      <td>57</td>\n",
       "      <td>126</td>\n",
       "      <td>16.2</td>\n",
       "      <td>1</td>\n",
       "      <td>1.1</td>\n",
       "      <td>27</td>\n",
       "      <td>23</td>\n",
       "      <td>37</td>\n",
       "      <td>1</td>\n",
       "      <td>0</td>\n",
       "    </tr>\n",
       "    <tr>\n",
       "      <th>2</th>\n",
       "      <td>2</td>\n",
       "      <td>20</td>\n",
       "      <td>170</td>\n",
       "      <td>75</td>\n",
       "      <td>81.0</td>\n",
       "      <td>0.4</td>\n",
       "      <td>0.5</td>\n",
       "      <td>1</td>\n",
       "      <td>1</td>\n",
       "      <td>118</td>\n",
       "      <td>...</td>\n",
       "      <td>45</td>\n",
       "      <td>93</td>\n",
       "      <td>17.4</td>\n",
       "      <td>1</td>\n",
       "      <td>0.8</td>\n",
       "      <td>27</td>\n",
       "      <td>31</td>\n",
       "      <td>53</td>\n",
       "      <td>0</td>\n",
       "      <td>1</td>\n",
       "    </tr>\n",
       "    <tr>\n",
       "      <th>3</th>\n",
       "      <td>3</td>\n",
       "      <td>35</td>\n",
       "      <td>180</td>\n",
       "      <td>95</td>\n",
       "      <td>105.0</td>\n",
       "      <td>1.5</td>\n",
       "      <td>1.2</td>\n",
       "      <td>1</td>\n",
       "      <td>1</td>\n",
       "      <td>131</td>\n",
       "      <td>...</td>\n",
       "      <td>38</td>\n",
       "      <td>102</td>\n",
       "      <td>15.9</td>\n",
       "      <td>1</td>\n",
       "      <td>1.0</td>\n",
       "      <td>20</td>\n",
       "      <td>27</td>\n",
       "      <td>30</td>\n",
       "      <td>1</td>\n",
       "      <td>0</td>\n",
       "    </tr>\n",
       "    <tr>\n",
       "      <th>4</th>\n",
       "      <td>4</td>\n",
       "      <td>30</td>\n",
       "      <td>165</td>\n",
       "      <td>60</td>\n",
       "      <td>80.5</td>\n",
       "      <td>1.5</td>\n",
       "      <td>1.0</td>\n",
       "      <td>1</td>\n",
       "      <td>1</td>\n",
       "      <td>121</td>\n",
       "      <td>...</td>\n",
       "      <td>44</td>\n",
       "      <td>93</td>\n",
       "      <td>15.4</td>\n",
       "      <td>1</td>\n",
       "      <td>0.8</td>\n",
       "      <td>19</td>\n",
       "      <td>13</td>\n",
       "      <td>17</td>\n",
       "      <td>0</td>\n",
       "      <td>1</td>\n",
       "    </tr>\n",
       "  </tbody>\n",
       "</table>\n",
       "<p>5 rows × 24 columns</p>\n",
       "</div>"
      ],
      "text/plain": [
       "   id  age  height(cm)  weight(kg)  waist(cm)  eyesight(left)  \\\n",
       "0   0   55         165          60       81.0             0.5   \n",
       "1   1   70         165          65       89.0             0.6   \n",
       "2   2   20         170          75       81.0             0.4   \n",
       "3   3   35         180          95      105.0             1.5   \n",
       "4   4   30         165          60       80.5             1.5   \n",
       "\n",
       "   eyesight(right)  hearing(left)  hearing(right)  systolic  ...  HDL  LDL  \\\n",
       "0              0.6              1               1       135  ...   40   75   \n",
       "1              0.7              2               2       146  ...   57  126   \n",
       "2              0.5              1               1       118  ...   45   93   \n",
       "3              1.2              1               1       131  ...   38  102   \n",
       "4              1.0              1               1       121  ...   44   93   \n",
       "\n",
       "   hemoglobin  Urine protein  serum creatinine  AST  ALT  Gtp  dental caries  \\\n",
       "0        16.5              1               1.0   22   25   27              0   \n",
       "1        16.2              1               1.1   27   23   37              1   \n",
       "2        17.4              1               0.8   27   31   53              0   \n",
       "3        15.9              1               1.0   20   27   30              1   \n",
       "4        15.4              1               0.8   19   13   17              0   \n",
       "\n",
       "   smoking  \n",
       "0        1  \n",
       "1        0  \n",
       "2        1  \n",
       "3        0  \n",
       "4        1  \n",
       "\n",
       "[5 rows x 24 columns]"
      ]
     },
     "execution_count": 2,
     "metadata": {},
     "output_type": "execute_result"
    }
   ],
   "source": [
    "import pandas as pd\n",
    "df = pd.read_csv('train_smoker.csv')\n",
    "df.head()"
   ]
  },
  {
   "cell_type": "code",
   "execution_count": 3,
   "metadata": {},
   "outputs": [
    {
     "name": "stdout",
     "output_type": "stream",
     "text": [
      "<class 'pandas.core.frame.DataFrame'>\n",
      "RangeIndex: 159256 entries, 0 to 159255\n",
      "Data columns (total 24 columns):\n",
      " #   Column               Non-Null Count   Dtype  \n",
      "---  ------               --------------   -----  \n",
      " 0   id                   159256 non-null  int64  \n",
      " 1   age                  159256 non-null  int64  \n",
      " 2   height(cm)           159256 non-null  int64  \n",
      " 3   weight(kg)           159256 non-null  int64  \n",
      " 4   waist(cm)            159256 non-null  float64\n",
      " 5   eyesight(left)       159256 non-null  float64\n",
      " 6   eyesight(right)      159256 non-null  float64\n",
      " 7   hearing(left)        159256 non-null  int64  \n",
      " 8   hearing(right)       159256 non-null  int64  \n",
      " 9   systolic             159256 non-null  int64  \n",
      " 10  relaxation           159256 non-null  int64  \n",
      " 11  fasting blood sugar  159256 non-null  int64  \n",
      " 12  Cholesterol          159256 non-null  int64  \n",
      " 13  triglyceride         159256 non-null  int64  \n",
      " 14  HDL                  159256 non-null  int64  \n",
      " 15  LDL                  159256 non-null  int64  \n",
      " 16  hemoglobin           159256 non-null  float64\n",
      " 17  Urine protein        159256 non-null  int64  \n",
      " 18  serum creatinine     159256 non-null  float64\n",
      " 19  AST                  159256 non-null  int64  \n",
      " 20  ALT                  159256 non-null  int64  \n",
      " 21  Gtp                  159256 non-null  int64  \n",
      " 22  dental caries        159256 non-null  int64  \n",
      " 23  smoking              159256 non-null  int64  \n",
      "dtypes: float64(5), int64(19)\n",
      "memory usage: 29.2 MB\n"
     ]
    }
   ],
   "source": [
    "df.info()"
   ]
  },
  {
   "cell_type": "code",
   "execution_count": 4,
   "metadata": {},
   "outputs": [
    {
     "data": {
      "text/plain": [
       "id                     0\n",
       "age                    0\n",
       "height(cm)             0\n",
       "weight(kg)             0\n",
       "waist(cm)              0\n",
       "eyesight(left)         0\n",
       "eyesight(right)        0\n",
       "hearing(left)          0\n",
       "hearing(right)         0\n",
       "systolic               0\n",
       "relaxation             0\n",
       "fasting blood sugar    0\n",
       "Cholesterol            0\n",
       "triglyceride           0\n",
       "HDL                    0\n",
       "LDL                    0\n",
       "hemoglobin             0\n",
       "Urine protein          0\n",
       "serum creatinine       0\n",
       "AST                    0\n",
       "ALT                    0\n",
       "Gtp                    0\n",
       "dental caries          0\n",
       "smoking                0\n",
       "dtype: int64"
      ]
     },
     "execution_count": 4,
     "metadata": {},
     "output_type": "execute_result"
    }
   ],
   "source": [
    "df.isna().sum()"
   ]
  },
  {
   "cell_type": "markdown",
   "metadata": {},
   "source": [
    "#### Separate X and Y (smoking)"
   ]
  },
  {
   "cell_type": "code",
   "execution_count": 5,
   "metadata": {},
   "outputs": [],
   "source": [
    "X = df.drop(columns=['id','smoking'])\n",
    "Y = df[['smoking']]"
   ]
  },
  {
   "cell_type": "code",
   "execution_count": 6,
   "metadata": {},
   "outputs": [
    {
     "data": {
      "text/html": [
       "<div>\n",
       "<style scoped>\n",
       "    .dataframe tbody tr th:only-of-type {\n",
       "        vertical-align: middle;\n",
       "    }\n",
       "\n",
       "    .dataframe tbody tr th {\n",
       "        vertical-align: top;\n",
       "    }\n",
       "\n",
       "    .dataframe thead th {\n",
       "        text-align: right;\n",
       "    }\n",
       "</style>\n",
       "<table border=\"1\" class=\"dataframe\">\n",
       "  <thead>\n",
       "    <tr style=\"text-align: right;\">\n",
       "      <th></th>\n",
       "      <th>age</th>\n",
       "      <th>height(cm)</th>\n",
       "      <th>weight(kg)</th>\n",
       "      <th>waist(cm)</th>\n",
       "      <th>eyesight(left)</th>\n",
       "      <th>eyesight(right)</th>\n",
       "      <th>hearing(left)</th>\n",
       "      <th>hearing(right)</th>\n",
       "      <th>systolic</th>\n",
       "      <th>relaxation</th>\n",
       "      <th>...</th>\n",
       "      <th>triglyceride</th>\n",
       "      <th>HDL</th>\n",
       "      <th>LDL</th>\n",
       "      <th>hemoglobin</th>\n",
       "      <th>Urine protein</th>\n",
       "      <th>serum creatinine</th>\n",
       "      <th>AST</th>\n",
       "      <th>ALT</th>\n",
       "      <th>Gtp</th>\n",
       "      <th>dental caries</th>\n",
       "    </tr>\n",
       "  </thead>\n",
       "  <tbody>\n",
       "    <tr>\n",
       "      <th>0</th>\n",
       "      <td>55</td>\n",
       "      <td>165</td>\n",
       "      <td>60</td>\n",
       "      <td>81.0</td>\n",
       "      <td>0.5</td>\n",
       "      <td>0.6</td>\n",
       "      <td>1</td>\n",
       "      <td>1</td>\n",
       "      <td>135</td>\n",
       "      <td>87</td>\n",
       "      <td>...</td>\n",
       "      <td>300</td>\n",
       "      <td>40</td>\n",
       "      <td>75</td>\n",
       "      <td>16.5</td>\n",
       "      <td>1</td>\n",
       "      <td>1.0</td>\n",
       "      <td>22</td>\n",
       "      <td>25</td>\n",
       "      <td>27</td>\n",
       "      <td>0</td>\n",
       "    </tr>\n",
       "    <tr>\n",
       "      <th>1</th>\n",
       "      <td>70</td>\n",
       "      <td>165</td>\n",
       "      <td>65</td>\n",
       "      <td>89.0</td>\n",
       "      <td>0.6</td>\n",
       "      <td>0.7</td>\n",
       "      <td>2</td>\n",
       "      <td>2</td>\n",
       "      <td>146</td>\n",
       "      <td>83</td>\n",
       "      <td>...</td>\n",
       "      <td>55</td>\n",
       "      <td>57</td>\n",
       "      <td>126</td>\n",
       "      <td>16.2</td>\n",
       "      <td>1</td>\n",
       "      <td>1.1</td>\n",
       "      <td>27</td>\n",
       "      <td>23</td>\n",
       "      <td>37</td>\n",
       "      <td>1</td>\n",
       "    </tr>\n",
       "    <tr>\n",
       "      <th>2</th>\n",
       "      <td>20</td>\n",
       "      <td>170</td>\n",
       "      <td>75</td>\n",
       "      <td>81.0</td>\n",
       "      <td>0.4</td>\n",
       "      <td>0.5</td>\n",
       "      <td>1</td>\n",
       "      <td>1</td>\n",
       "      <td>118</td>\n",
       "      <td>75</td>\n",
       "      <td>...</td>\n",
       "      <td>197</td>\n",
       "      <td>45</td>\n",
       "      <td>93</td>\n",
       "      <td>17.4</td>\n",
       "      <td>1</td>\n",
       "      <td>0.8</td>\n",
       "      <td>27</td>\n",
       "      <td>31</td>\n",
       "      <td>53</td>\n",
       "      <td>0</td>\n",
       "    </tr>\n",
       "    <tr>\n",
       "      <th>3</th>\n",
       "      <td>35</td>\n",
       "      <td>180</td>\n",
       "      <td>95</td>\n",
       "      <td>105.0</td>\n",
       "      <td>1.5</td>\n",
       "      <td>1.2</td>\n",
       "      <td>1</td>\n",
       "      <td>1</td>\n",
       "      <td>131</td>\n",
       "      <td>88</td>\n",
       "      <td>...</td>\n",
       "      <td>203</td>\n",
       "      <td>38</td>\n",
       "      <td>102</td>\n",
       "      <td>15.9</td>\n",
       "      <td>1</td>\n",
       "      <td>1.0</td>\n",
       "      <td>20</td>\n",
       "      <td>27</td>\n",
       "      <td>30</td>\n",
       "      <td>1</td>\n",
       "    </tr>\n",
       "    <tr>\n",
       "      <th>4</th>\n",
       "      <td>30</td>\n",
       "      <td>165</td>\n",
       "      <td>60</td>\n",
       "      <td>80.5</td>\n",
       "      <td>1.5</td>\n",
       "      <td>1.0</td>\n",
       "      <td>1</td>\n",
       "      <td>1</td>\n",
       "      <td>121</td>\n",
       "      <td>76</td>\n",
       "      <td>...</td>\n",
       "      <td>87</td>\n",
       "      <td>44</td>\n",
       "      <td>93</td>\n",
       "      <td>15.4</td>\n",
       "      <td>1</td>\n",
       "      <td>0.8</td>\n",
       "      <td>19</td>\n",
       "      <td>13</td>\n",
       "      <td>17</td>\n",
       "      <td>0</td>\n",
       "    </tr>\n",
       "  </tbody>\n",
       "</table>\n",
       "<p>5 rows × 22 columns</p>\n",
       "</div>"
      ],
      "text/plain": [
       "   age  height(cm)  weight(kg)  waist(cm)  eyesight(left)  eyesight(right)  \\\n",
       "0   55         165          60       81.0             0.5              0.6   \n",
       "1   70         165          65       89.0             0.6              0.7   \n",
       "2   20         170          75       81.0             0.4              0.5   \n",
       "3   35         180          95      105.0             1.5              1.2   \n",
       "4   30         165          60       80.5             1.5              1.0   \n",
       "\n",
       "   hearing(left)  hearing(right)  systolic  relaxation  ...  triglyceride  \\\n",
       "0              1               1       135          87  ...           300   \n",
       "1              2               2       146          83  ...            55   \n",
       "2              1               1       118          75  ...           197   \n",
       "3              1               1       131          88  ...           203   \n",
       "4              1               1       121          76  ...            87   \n",
       "\n",
       "   HDL  LDL  hemoglobin  Urine protein  serum creatinine  AST  ALT  Gtp  \\\n",
       "0   40   75        16.5              1               1.0   22   25   27   \n",
       "1   57  126        16.2              1               1.1   27   23   37   \n",
       "2   45   93        17.4              1               0.8   27   31   53   \n",
       "3   38  102        15.9              1               1.0   20   27   30   \n",
       "4   44   93        15.4              1               0.8   19   13   17   \n",
       "\n",
       "   dental caries  \n",
       "0              0  \n",
       "1              1  \n",
       "2              0  \n",
       "3              1  \n",
       "4              0  \n",
       "\n",
       "[5 rows x 22 columns]"
      ]
     },
     "execution_count": 6,
     "metadata": {},
     "output_type": "execute_result"
    }
   ],
   "source": [
    "X.head()"
   ]
  },
  {
   "cell_type": "code",
   "execution_count": 7,
   "metadata": {},
   "outputs": [
    {
     "data": {
      "text/html": [
       "<div>\n",
       "<style scoped>\n",
       "    .dataframe tbody tr th:only-of-type {\n",
       "        vertical-align: middle;\n",
       "    }\n",
       "\n",
       "    .dataframe tbody tr th {\n",
       "        vertical-align: top;\n",
       "    }\n",
       "\n",
       "    .dataframe thead th {\n",
       "        text-align: right;\n",
       "    }\n",
       "</style>\n",
       "<table border=\"1\" class=\"dataframe\">\n",
       "  <thead>\n",
       "    <tr style=\"text-align: right;\">\n",
       "      <th></th>\n",
       "      <th>smoking</th>\n",
       "    </tr>\n",
       "  </thead>\n",
       "  <tbody>\n",
       "    <tr>\n",
       "      <th>0</th>\n",
       "      <td>1</td>\n",
       "    </tr>\n",
       "    <tr>\n",
       "      <th>1</th>\n",
       "      <td>0</td>\n",
       "    </tr>\n",
       "    <tr>\n",
       "      <th>2</th>\n",
       "      <td>1</td>\n",
       "    </tr>\n",
       "    <tr>\n",
       "      <th>3</th>\n",
       "      <td>0</td>\n",
       "    </tr>\n",
       "    <tr>\n",
       "      <th>4</th>\n",
       "      <td>1</td>\n",
       "    </tr>\n",
       "  </tbody>\n",
       "</table>\n",
       "</div>"
      ],
      "text/plain": [
       "   smoking\n",
       "0        1\n",
       "1        0\n",
       "2        1\n",
       "3        0\n",
       "4        1"
      ]
     },
     "execution_count": 7,
     "metadata": {},
     "output_type": "execute_result"
    }
   ],
   "source": [
    "Y.head()"
   ]
  },
  {
   "cell_type": "markdown",
   "metadata": {},
   "source": [
    "#### Preprocessing X with pipeline"
   ]
  },
  {
   "cell_type": "code",
   "execution_count": 8,
   "metadata": {},
   "outputs": [],
   "source": [
    "from sklearn.pipeline import Pipeline\n",
    "from sklearn.impute import SimpleImputer\n",
    "from sklearn.preprocessing import StandardScaler"
   ]
  },
  {
   "cell_type": "code",
   "execution_count": 9,
   "metadata": {},
   "outputs": [],
   "source": [
    "num_pipe = Pipeline(steps=[('imputer',SimpleImputer(strategy='median')),\n",
    "                           ('scaler',StandardScaler())])"
   ]
  },
  {
   "cell_type": "code",
   "execution_count": 10,
   "metadata": {},
   "outputs": [
    {
     "data": {
      "text/plain": [
       "array([[ 0.90298511, -0.03026766, -0.56758078, ..., -0.08732581,\n",
       "        -0.29534174, -0.49686626],\n",
       "       [ 2.16963644, -0.03026766, -0.17031899, ..., -0.19998274,\n",
       "         0.0251244 ,  2.01261403],\n",
       "       [-2.05253466,  0.53669377,  0.62420461, ...,  0.25064496,\n",
       "         0.53787023, -0.49686626],\n",
       "       ...,\n",
       "       [-0.36366622, -0.59722908, -1.36210438, ..., -0.98858121,\n",
       "        -0.77604095, -0.49686626],\n",
       "       [ 0.480768  , -0.03026766,  0.62420461, ..., -0.53795351,\n",
       "         0.0251244 , -0.49686626],\n",
       "       [-0.36366622, -2.29811335, -1.75936618, ..., -0.59428197,\n",
       "        -0.61580788, -0.49686626]])"
      ]
     },
     "execution_count": 10,
     "metadata": {},
     "output_type": "execute_result"
    }
   ],
   "source": [
    "X_pre = num_pipe.fit_transform(X)\n",
    "X_pre"
   ]
  },
  {
   "cell_type": "code",
   "execution_count": 11,
   "metadata": {},
   "outputs": [
    {
     "data": {
      "text/plain": [
       "array(['age', 'height(cm)', 'weight(kg)', 'waist(cm)', 'eyesight(left)',\n",
       "       'eyesight(right)', 'hearing(left)', 'hearing(right)', 'systolic',\n",
       "       'relaxation', 'fasting blood sugar', 'Cholesterol', 'triglyceride',\n",
       "       'HDL', 'LDL', 'hemoglobin', 'Urine protein', 'serum creatinine',\n",
       "       'AST', 'ALT', 'Gtp', 'dental caries'], dtype=object)"
      ]
     },
     "execution_count": 11,
     "metadata": {},
     "output_type": "execute_result"
    }
   ],
   "source": [
    "cols = num_pipe.get_feature_names_out()\n",
    "cols"
   ]
  },
  {
   "cell_type": "code",
   "execution_count": 12,
   "metadata": {},
   "outputs": [
    {
     "data": {
      "text/html": [
       "<div>\n",
       "<style scoped>\n",
       "    .dataframe tbody tr th:only-of-type {\n",
       "        vertical-align: middle;\n",
       "    }\n",
       "\n",
       "    .dataframe tbody tr th {\n",
       "        vertical-align: top;\n",
       "    }\n",
       "\n",
       "    .dataframe thead th {\n",
       "        text-align: right;\n",
       "    }\n",
       "</style>\n",
       "<table border=\"1\" class=\"dataframe\">\n",
       "  <thead>\n",
       "    <tr style=\"text-align: right;\">\n",
       "      <th></th>\n",
       "      <th>age</th>\n",
       "      <th>height(cm)</th>\n",
       "      <th>weight(kg)</th>\n",
       "      <th>waist(cm)</th>\n",
       "      <th>eyesight(left)</th>\n",
       "      <th>eyesight(right)</th>\n",
       "      <th>hearing(left)</th>\n",
       "      <th>hearing(right)</th>\n",
       "      <th>systolic</th>\n",
       "      <th>relaxation</th>\n",
       "      <th>...</th>\n",
       "      <th>triglyceride</th>\n",
       "      <th>HDL</th>\n",
       "      <th>LDL</th>\n",
       "      <th>hemoglobin</th>\n",
       "      <th>Urine protein</th>\n",
       "      <th>serum creatinine</th>\n",
       "      <th>AST</th>\n",
       "      <th>ALT</th>\n",
       "      <th>Gtp</th>\n",
       "      <th>dental caries</th>\n",
       "    </tr>\n",
       "  </thead>\n",
       "  <tbody>\n",
       "    <tr>\n",
       "      <th>0</th>\n",
       "      <td>0.902985</td>\n",
       "      <td>-0.030268</td>\n",
       "      <td>-0.567581</td>\n",
       "      <td>-0.223489</td>\n",
       "      <td>-1.257856</td>\n",
       "      <td>-1.022156</td>\n",
       "      <td>-0.156725</td>\n",
       "      <td>-0.154865</td>\n",
       "      <td>0.981702</td>\n",
       "      <td>1.125777</td>\n",
       "      <td>...</td>\n",
       "      <td>2.604429</td>\n",
       "      <td>-1.135246</td>\n",
       "      <td>-1.406581</td>\n",
       "      <td>1.189928</td>\n",
       "      <td>-0.213401</td>\n",
       "      <td>0.597927</td>\n",
       "      <td>-0.371570</td>\n",
       "      <td>-0.087326</td>\n",
       "      <td>-0.295342</td>\n",
       "      <td>-0.496866</td>\n",
       "    </tr>\n",
       "    <tr>\n",
       "      <th>1</th>\n",
       "      <td>2.169636</td>\n",
       "      <td>-0.030268</td>\n",
       "      <td>-0.170319</td>\n",
       "      <td>0.669577</td>\n",
       "      <td>-1.009169</td>\n",
       "      <td>-0.767247</td>\n",
       "      <td>6.380587</td>\n",
       "      <td>6.457242</td>\n",
       "      <td>1.845852</td>\n",
       "      <td>0.681066</td>\n",
       "      <td>...</td>\n",
       "      <td>-1.097105</td>\n",
       "      <td>0.082162</td>\n",
       "      <td>0.404573</td>\n",
       "      <td>0.980315</td>\n",
       "      <td>-0.213401</td>\n",
       "      <td>1.155511</td>\n",
       "      <td>0.156700</td>\n",
       "      <td>-0.199983</td>\n",
       "      <td>0.025124</td>\n",
       "      <td>2.012614</td>\n",
       "    </tr>\n",
       "    <tr>\n",
       "      <th>2</th>\n",
       "      <td>-2.052535</td>\n",
       "      <td>0.536694</td>\n",
       "      <td>0.624205</td>\n",
       "      <td>-0.223489</td>\n",
       "      <td>-1.506543</td>\n",
       "      <td>-1.277064</td>\n",
       "      <td>-0.156725</td>\n",
       "      <td>-0.154865</td>\n",
       "      <td>-0.353802</td>\n",
       "      <td>-0.208355</td>\n",
       "      <td>...</td>\n",
       "      <td>1.048274</td>\n",
       "      <td>-0.777185</td>\n",
       "      <td>-0.767350</td>\n",
       "      <td>1.818767</td>\n",
       "      <td>-0.213401</td>\n",
       "      <td>-0.517239</td>\n",
       "      <td>0.156700</td>\n",
       "      <td>0.250645</td>\n",
       "      <td>0.537870</td>\n",
       "      <td>-0.496866</td>\n",
       "    </tr>\n",
       "    <tr>\n",
       "      <th>3</th>\n",
       "      <td>-0.785883</td>\n",
       "      <td>1.670617</td>\n",
       "      <td>2.213252</td>\n",
       "      <td>2.455708</td>\n",
       "      <td>1.229017</td>\n",
       "      <td>0.507296</td>\n",
       "      <td>-0.156725</td>\n",
       "      <td>-0.154865</td>\n",
       "      <td>0.667465</td>\n",
       "      <td>1.236955</td>\n",
       "      <td>...</td>\n",
       "      <td>1.138923</td>\n",
       "      <td>-1.278470</td>\n",
       "      <td>-0.447734</td>\n",
       "      <td>0.770702</td>\n",
       "      <td>-0.213401</td>\n",
       "      <td>0.597927</td>\n",
       "      <td>-0.582878</td>\n",
       "      <td>0.025331</td>\n",
       "      <td>-0.199202</td>\n",
       "      <td>2.012614</td>\n",
       "    </tr>\n",
       "    <tr>\n",
       "      <th>4</th>\n",
       "      <td>-1.208100</td>\n",
       "      <td>-0.030268</td>\n",
       "      <td>-0.567581</td>\n",
       "      <td>-0.279305</td>\n",
       "      <td>1.229017</td>\n",
       "      <td>-0.002521</td>\n",
       "      <td>-0.156725</td>\n",
       "      <td>-0.154865</td>\n",
       "      <td>-0.118125</td>\n",
       "      <td>-0.097177</td>\n",
       "      <td>...</td>\n",
       "      <td>-0.613639</td>\n",
       "      <td>-0.848797</td>\n",
       "      <td>-0.767350</td>\n",
       "      <td>0.421347</td>\n",
       "      <td>-0.213401</td>\n",
       "      <td>-0.517239</td>\n",
       "      <td>-0.688532</td>\n",
       "      <td>-0.763267</td>\n",
       "      <td>-0.615808</td>\n",
       "      <td>-0.496866</td>\n",
       "    </tr>\n",
       "  </tbody>\n",
       "</table>\n",
       "<p>5 rows × 22 columns</p>\n",
       "</div>"
      ],
      "text/plain": [
       "        age  height(cm)  weight(kg)  waist(cm)  eyesight(left)  \\\n",
       "0  0.902985   -0.030268   -0.567581  -0.223489       -1.257856   \n",
       "1  2.169636   -0.030268   -0.170319   0.669577       -1.009169   \n",
       "2 -2.052535    0.536694    0.624205  -0.223489       -1.506543   \n",
       "3 -0.785883    1.670617    2.213252   2.455708        1.229017   \n",
       "4 -1.208100   -0.030268   -0.567581  -0.279305        1.229017   \n",
       "\n",
       "   eyesight(right)  hearing(left)  hearing(right)  systolic  relaxation  ...  \\\n",
       "0        -1.022156      -0.156725       -0.154865  0.981702    1.125777  ...   \n",
       "1        -0.767247       6.380587        6.457242  1.845852    0.681066  ...   \n",
       "2        -1.277064      -0.156725       -0.154865 -0.353802   -0.208355  ...   \n",
       "3         0.507296      -0.156725       -0.154865  0.667465    1.236955  ...   \n",
       "4        -0.002521      -0.156725       -0.154865 -0.118125   -0.097177  ...   \n",
       "\n",
       "   triglyceride       HDL       LDL  hemoglobin  Urine protein  \\\n",
       "0      2.604429 -1.135246 -1.406581    1.189928      -0.213401   \n",
       "1     -1.097105  0.082162  0.404573    0.980315      -0.213401   \n",
       "2      1.048274 -0.777185 -0.767350    1.818767      -0.213401   \n",
       "3      1.138923 -1.278470 -0.447734    0.770702      -0.213401   \n",
       "4     -0.613639 -0.848797 -0.767350    0.421347      -0.213401   \n",
       "\n",
       "   serum creatinine       AST       ALT       Gtp  dental caries  \n",
       "0          0.597927 -0.371570 -0.087326 -0.295342      -0.496866  \n",
       "1          1.155511  0.156700 -0.199983  0.025124       2.012614  \n",
       "2         -0.517239  0.156700  0.250645  0.537870      -0.496866  \n",
       "3          0.597927 -0.582878  0.025331 -0.199202       2.012614  \n",
       "4         -0.517239 -0.688532 -0.763267 -0.615808      -0.496866  \n",
       "\n",
       "[5 rows x 22 columns]"
      ]
     },
     "execution_count": 12,
     "metadata": {},
     "output_type": "execute_result"
    }
   ],
   "source": [
    "X_pre = pd.DataFrame(X_pre,columns=cols)\n",
    "X_pre.head()"
   ]
  },
  {
   "cell_type": "markdown",
   "metadata": {},
   "source": [
    "#### Apply Train Test split"
   ]
  },
  {
   "cell_type": "code",
   "execution_count": 13,
   "metadata": {},
   "outputs": [],
   "source": [
    "from sklearn.model_selection import train_test_split\n",
    "xtrain, xtest,ytrain,ytest = train_test_split(X_pre,Y,test_size=0.2,random_state=42)"
   ]
  },
  {
   "cell_type": "code",
   "execution_count": 14,
   "metadata": {},
   "outputs": [
    {
     "data": {
      "text/plain": [
       "(127404, 22)"
      ]
     },
     "execution_count": 14,
     "metadata": {},
     "output_type": "execute_result"
    }
   ],
   "source": [
    "xtrain.shape"
   ]
  },
  {
   "cell_type": "code",
   "execution_count": 15,
   "metadata": {},
   "outputs": [
    {
     "data": {
      "text/plain": [
       "(31852, 22)"
      ]
     },
     "execution_count": 15,
     "metadata": {},
     "output_type": "execute_result"
    }
   ],
   "source": [
    "xtest.shape"
   ]
  },
  {
   "cell_type": "code",
   "execution_count": 16,
   "metadata": {},
   "outputs": [
    {
     "data": {
      "text/plain": [
       "22"
      ]
     },
     "execution_count": 16,
     "metadata": {},
     "output_type": "execute_result"
    }
   ],
   "source": [
    "xtrain.shape[1]"
   ]
  },
  {
   "cell_type": "markdown",
   "metadata": {},
   "source": [
    "#### Create a neural network with Keras"
   ]
  },
  {
   "cell_type": "code",
   "execution_count": 17,
   "metadata": {},
   "outputs": [
    {
     "name": "stdout",
     "output_type": "stream",
     "text": [
      "WARNING:tensorflow:From f:\\Deep learning p\\repository\\venv\\lib\\site-packages\\keras\\src\\losses.py:2976: The name tf.losses.sparse_softmax_cross_entropy is deprecated. Please use tf.compat.v1.losses.sparse_softmax_cross_entropy instead.\n",
      "\n"
     ]
    }
   ],
   "source": [
    "from keras.models import Sequential\n",
    "from keras.layers import Dense,Dropout"
   ]
  },
  {
   "cell_type": "markdown",
   "metadata": {},
   "source": []
  },
  {
   "cell_type": "markdown",
   "metadata": {},
   "source": [
    "#### Dropout layer acts as Regularization,randomly drop some percentage of neurons"
   ]
  },
  {
   "cell_type": "code",
   "execution_count": 18,
   "metadata": {},
   "outputs": [
    {
     "name": "stdout",
     "output_type": "stream",
     "text": [
      "WARNING:tensorflow:From f:\\Deep learning p\\repository\\venv\\lib\\site-packages\\keras\\src\\backend.py:873: The name tf.get_default_graph is deprecated. Please use tf.compat.v1.get_default_graph instead.\n",
      "\n"
     ]
    }
   ],
   "source": [
    "model = Sequential()\n",
    "\n",
    "# Hidden layer 1\n",
    "model.add(Dense(64,activation='relu',input_dim=xtrain.shape[1]))\n",
    "# Dropout layer 1\n",
    "model.add(Dropout(0.2))\n",
    "\n",
    "# Hidden layer 2\n",
    "model.add(Dense(32,activation='relu'))\n",
    "# Dropout layer 2\n",
    "model.add(Dropout(0.2))\n",
    "\n",
    "# output layer\n",
    "model.add(Dense(1,activation='sigmoid'))"
   ]
  },
  {
   "cell_type": "code",
   "execution_count": 19,
   "metadata": {},
   "outputs": [
    {
     "name": "stdout",
     "output_type": "stream",
     "text": [
      "Model: \"sequential\"\n",
      "_________________________________________________________________\n",
      " Layer (type)                Output Shape              Param #   \n",
      "=================================================================\n",
      " dense (Dense)               (None, 64)                1472      \n",
      "                                                                 \n",
      " dropout (Dropout)           (None, 64)                0         \n",
      "                                                                 \n",
      " dense_1 (Dense)             (None, 32)                2080      \n",
      "                                                                 \n",
      " dropout_1 (Dropout)         (None, 32)                0         \n",
      "                                                                 \n",
      " dense_2 (Dense)             (None, 1)                 33        \n",
      "                                                                 \n",
      "=================================================================\n",
      "Total params: 3585 (14.00 KB)\n",
      "Trainable params: 3585 (14.00 KB)\n",
      "Non-trainable params: 0 (0.00 Byte)\n",
      "_________________________________________________________________\n"
     ]
    }
   ],
   "source": [
    "model.summary()"
   ]
  },
  {
   "cell_type": "markdown",
   "metadata": {},
   "source": [
    "#### Compile the model"
   ]
  },
  {
   "cell_type": "code",
   "execution_count": 20,
   "metadata": {},
   "outputs": [
    {
     "name": "stdout",
     "output_type": "stream",
     "text": [
      "WARNING:tensorflow:From f:\\Deep learning p\\repository\\venv\\lib\\site-packages\\keras\\src\\optimizers\\__init__.py:309: The name tf.train.Optimizer is deprecated. Please use tf.compat.v1.train.Optimizer instead.\n",
      "\n"
     ]
    }
   ],
   "source": [
    "model.compile(optimizer='adam',loss='binary_crossentropy',metrics=['accuracy','AUC'])"
   ]
  },
  {
   "cell_type": "markdown",
   "metadata": {},
   "source": [
    "#### Fit the model"
   ]
  },
  {
   "cell_type": "code",
   "execution_count": 21,
   "metadata": {},
   "outputs": [
    {
     "name": "stdout",
     "output_type": "stream",
     "text": [
      "Epoch 1/60\n",
      "WARNING:tensorflow:From f:\\Deep learning p\\repository\\venv\\lib\\site-packages\\keras\\src\\utils\\tf_utils.py:492: The name tf.ragged.RaggedTensorValue is deprecated. Please use tf.compat.v1.ragged.RaggedTensorValue instead.\n",
      "\n",
      "WARNING:tensorflow:From f:\\Deep learning p\\repository\\venv\\lib\\site-packages\\keras\\src\\engine\\base_layer_utils.py:384: The name tf.executing_eagerly_outside_functions is deprecated. Please use tf.compat.v1.executing_eagerly_outside_functions instead.\n",
      "\n",
      "3186/3186 [==============================] - 35s 10ms/step - loss: 0.4839 - accuracy: 0.7561 - auc: 0.8353 - val_loss: 0.4582 - val_accuracy: 0.7708 - val_auc: 0.8547\n",
      "Epoch 2/60\n",
      "3186/3186 [==============================] - 26s 8ms/step - loss: 0.4675 - accuracy: 0.7663 - auc: 0.8479 - val_loss: 0.4561 - val_accuracy: 0.7728 - val_auc: 0.8567\n",
      "Epoch 3/60\n",
      "3186/3186 [==============================] - 26s 8ms/step - loss: 0.4641 - accuracy: 0.7692 - auc: 0.8507 - val_loss: 0.4576 - val_accuracy: 0.7730 - val_auc: 0.8575\n",
      "Epoch 4/60\n",
      "3186/3186 [==============================] - 23s 7ms/step - loss: 0.4621 - accuracy: 0.7698 - auc: 0.8520 - val_loss: 0.4512 - val_accuracy: 0.7754 - val_auc: 0.8595\n",
      "Epoch 5/60\n",
      "3186/3186 [==============================] - 19s 6ms/step - loss: 0.4610 - accuracy: 0.7710 - auc: 0.8529 - val_loss: 0.4505 - val_accuracy: 0.7750 - val_auc: 0.8603\n",
      "Epoch 6/60\n",
      "3186/3186 [==============================] - 19s 6ms/step - loss: 0.4601 - accuracy: 0.7704 - auc: 0.8538 - val_loss: 0.4502 - val_accuracy: 0.7761 - val_auc: 0.8602\n",
      "Epoch 7/60\n",
      "3186/3186 [==============================] - 20s 6ms/step - loss: 0.4588 - accuracy: 0.7727 - auc: 0.8547 - val_loss: 0.4492 - val_accuracy: 0.7757 - val_auc: 0.8608\n",
      "Epoch 8/60\n",
      "3186/3186 [==============================] - 19s 6ms/step - loss: 0.4572 - accuracy: 0.7754 - auc: 0.8558 - val_loss: 0.4493 - val_accuracy: 0.7766 - val_auc: 0.8607\n",
      "Epoch 9/60\n",
      "3186/3186 [==============================] - 20s 6ms/step - loss: 0.4576 - accuracy: 0.7736 - auc: 0.8555 - val_loss: 0.4503 - val_accuracy: 0.7749 - val_auc: 0.8610\n",
      "Epoch 10/60\n",
      "3186/3186 [==============================] - 21s 7ms/step - loss: 0.4565 - accuracy: 0.7732 - auc: 0.8562 - val_loss: 0.4489 - val_accuracy: 0.7771 - val_auc: 0.8611\n",
      "Epoch 11/60\n",
      "3186/3186 [==============================] - 20s 6ms/step - loss: 0.4568 - accuracy: 0.7736 - auc: 0.8559 - val_loss: 0.4504 - val_accuracy: 0.7768 - val_auc: 0.8610\n",
      "Epoch 12/60\n",
      "3186/3186 [==============================] - 26s 8ms/step - loss: 0.4566 - accuracy: 0.7748 - auc: 0.8562 - val_loss: 0.4483 - val_accuracy: 0.7759 - val_auc: 0.8617\n",
      "Epoch 13/60\n",
      "3186/3186 [==============================] - 29s 9ms/step - loss: 0.4558 - accuracy: 0.7741 - auc: 0.8567 - val_loss: 0.4482 - val_accuracy: 0.7772 - val_auc: 0.8615\n",
      "Epoch 14/60\n",
      "3186/3186 [==============================] - 29s 9ms/step - loss: 0.4557 - accuracy: 0.7747 - auc: 0.8567 - val_loss: 0.4474 - val_accuracy: 0.7778 - val_auc: 0.8619\n",
      "Epoch 15/60\n",
      "3186/3186 [==============================] - 23s 7ms/step - loss: 0.4555 - accuracy: 0.7743 - auc: 0.8570 - val_loss: 0.4498 - val_accuracy: 0.7782 - val_auc: 0.8622\n",
      "Epoch 16/60\n",
      "3186/3186 [==============================] - 19s 6ms/step - loss: 0.4548 - accuracy: 0.7759 - auc: 0.8576 - val_loss: 0.4478 - val_accuracy: 0.7775 - val_auc: 0.8621\n",
      "Epoch 17/60\n",
      "3186/3186 [==============================] - 19s 6ms/step - loss: 0.4552 - accuracy: 0.7751 - auc: 0.8572 - val_loss: 0.4498 - val_accuracy: 0.7779 - val_auc: 0.8614\n",
      "Epoch 18/60\n",
      "3186/3186 [==============================] - 19s 6ms/step - loss: 0.4544 - accuracy: 0.7749 - auc: 0.8576 - val_loss: 0.4479 - val_accuracy: 0.7770 - val_auc: 0.8613\n",
      "Epoch 19/60\n",
      "3186/3186 [==============================] - 19s 6ms/step - loss: 0.4545 - accuracy: 0.7748 - auc: 0.8576 - val_loss: 0.4481 - val_accuracy: 0.7763 - val_auc: 0.8621\n",
      "Epoch 20/60\n",
      "3186/3186 [==============================] - 24s 8ms/step - loss: 0.4536 - accuracy: 0.7754 - auc: 0.8581 - val_loss: 0.4474 - val_accuracy: 0.7769 - val_auc: 0.8617\n",
      "Epoch 21/60\n",
      "3186/3186 [==============================] - 24s 7ms/step - loss: 0.4535 - accuracy: 0.7755 - auc: 0.8579 - val_loss: 0.4488 - val_accuracy: 0.7769 - val_auc: 0.8615\n",
      "Epoch 22/60\n",
      "3186/3186 [==============================] - 24s 8ms/step - loss: 0.4536 - accuracy: 0.7753 - auc: 0.8584 - val_loss: 0.4480 - val_accuracy: 0.7775 - val_auc: 0.8617\n",
      "Epoch 23/60\n",
      "3186/3186 [==============================] - 24s 8ms/step - loss: 0.4533 - accuracy: 0.7770 - auc: 0.8584 - val_loss: 0.4479 - val_accuracy: 0.7776 - val_auc: 0.8620\n",
      "Epoch 24/60\n",
      "3186/3186 [==============================] - 24s 7ms/step - loss: 0.4534 - accuracy: 0.7756 - auc: 0.8586 - val_loss: 0.4467 - val_accuracy: 0.7787 - val_auc: 0.8624\n",
      "Epoch 25/60\n",
      "3186/3186 [==============================] - 23s 7ms/step - loss: 0.4529 - accuracy: 0.7765 - auc: 0.8587 - val_loss: 0.4474 - val_accuracy: 0.7786 - val_auc: 0.8622\n",
      "Epoch 26/60\n",
      "3186/3186 [==============================] - 24s 8ms/step - loss: 0.4528 - accuracy: 0.7769 - auc: 0.8588 - val_loss: 0.4465 - val_accuracy: 0.7763 - val_auc: 0.8623\n",
      "Epoch 27/60\n",
      "3186/3186 [==============================] - 24s 8ms/step - loss: 0.4530 - accuracy: 0.7767 - auc: 0.8586 - val_loss: 0.4479 - val_accuracy: 0.7767 - val_auc: 0.8616\n",
      "Epoch 28/60\n",
      "3186/3186 [==============================] - 24s 8ms/step - loss: 0.4525 - accuracy: 0.7761 - auc: 0.8589 - val_loss: 0.4467 - val_accuracy: 0.7765 - val_auc: 0.8622\n",
      "Epoch 29/60\n",
      "3186/3186 [==============================] - 24s 8ms/step - loss: 0.4533 - accuracy: 0.7754 - auc: 0.8588 - val_loss: 0.4481 - val_accuracy: 0.7767 - val_auc: 0.8624\n",
      "Epoch 30/60\n",
      "3186/3186 [==============================] - 24s 7ms/step - loss: 0.4519 - accuracy: 0.7766 - auc: 0.8595 - val_loss: 0.4488 - val_accuracy: 0.7770 - val_auc: 0.8616\n",
      "Epoch 31/60\n",
      "3186/3186 [==============================] - 24s 8ms/step - loss: 0.4529 - accuracy: 0.7774 - auc: 0.8591 - val_loss: 0.4480 - val_accuracy: 0.7769 - val_auc: 0.8623\n",
      "Epoch 32/60\n",
      "3186/3186 [==============================] - 25s 8ms/step - loss: 0.4523 - accuracy: 0.7766 - auc: 0.8591 - val_loss: 0.4474 - val_accuracy: 0.7778 - val_auc: 0.8619\n",
      "Epoch 33/60\n",
      "3186/3186 [==============================] - 24s 8ms/step - loss: 0.4522 - accuracy: 0.7765 - auc: 0.8594 - val_loss: 0.4479 - val_accuracy: 0.7775 - val_auc: 0.8621\n",
      "Epoch 34/60\n",
      "3186/3186 [==============================] - 25s 8ms/step - loss: 0.4524 - accuracy: 0.7763 - auc: 0.8590 - val_loss: 0.4475 - val_accuracy: 0.7778 - val_auc: 0.8619\n",
      "Epoch 35/60\n",
      "3186/3186 [==============================] - 22s 7ms/step - loss: 0.4520 - accuracy: 0.7766 - auc: 0.8593 - val_loss: 0.4466 - val_accuracy: 0.7782 - val_auc: 0.8625\n",
      "Epoch 36/60\n",
      "3186/3186 [==============================] - 21s 7ms/step - loss: 0.4513 - accuracy: 0.7774 - auc: 0.8601 - val_loss: 0.4474 - val_accuracy: 0.7760 - val_auc: 0.8619\n",
      "Epoch 37/60\n",
      "3186/3186 [==============================] - 21s 7ms/step - loss: 0.4514 - accuracy: 0.7767 - auc: 0.8598 - val_loss: 0.4469 - val_accuracy: 0.7766 - val_auc: 0.8624\n",
      "Epoch 38/60\n",
      "3186/3186 [==============================] - 10s 3ms/step - loss: 0.4506 - accuracy: 0.7774 - auc: 0.8603 - val_loss: 0.4471 - val_accuracy: 0.7769 - val_auc: 0.8624\n",
      "Epoch 39/60\n",
      "3186/3186 [==============================] - 11s 3ms/step - loss: 0.4512 - accuracy: 0.7785 - auc: 0.8600 - val_loss: 0.4476 - val_accuracy: 0.7774 - val_auc: 0.8626\n",
      "Epoch 40/60\n",
      "3186/3186 [==============================] - 10s 3ms/step - loss: 0.4515 - accuracy: 0.7783 - auc: 0.8598 - val_loss: 0.4475 - val_accuracy: 0.7776 - val_auc: 0.8622\n",
      "Epoch 41/60\n",
      "3186/3186 [==============================] - 10s 3ms/step - loss: 0.4515 - accuracy: 0.7780 - auc: 0.8596 - val_loss: 0.4488 - val_accuracy: 0.7770 - val_auc: 0.8623\n",
      "Epoch 42/60\n",
      "3186/3186 [==============================] - 11s 4ms/step - loss: 0.4509 - accuracy: 0.7787 - auc: 0.8605 - val_loss: 0.4484 - val_accuracy: 0.7760 - val_auc: 0.8614\n",
      "Epoch 43/60\n",
      "3186/3186 [==============================] - 11s 3ms/step - loss: 0.4514 - accuracy: 0.7780 - auc: 0.8599 - val_loss: 0.4481 - val_accuracy: 0.7760 - val_auc: 0.8617\n",
      "Epoch 44/60\n",
      "3186/3186 [==============================] - 11s 3ms/step - loss: 0.4512 - accuracy: 0.7783 - auc: 0.8600 - val_loss: 0.4467 - val_accuracy: 0.7772 - val_auc: 0.8621\n",
      "Epoch 45/60\n",
      "3186/3186 [==============================] - 11s 3ms/step - loss: 0.4508 - accuracy: 0.7777 - auc: 0.8604 - val_loss: 0.4483 - val_accuracy: 0.7771 - val_auc: 0.8617\n",
      "Epoch 46/60\n",
      "3186/3186 [==============================] - 12s 4ms/step - loss: 0.4513 - accuracy: 0.7770 - auc: 0.8597 - val_loss: 0.4477 - val_accuracy: 0.7765 - val_auc: 0.8624\n",
      "Epoch 47/60\n",
      "3186/3186 [==============================] - 15s 5ms/step - loss: 0.4507 - accuracy: 0.7791 - auc: 0.8606 - val_loss: 0.4470 - val_accuracy: 0.7776 - val_auc: 0.8622\n",
      "Epoch 48/60\n",
      "3186/3186 [==============================] - 15s 5ms/step - loss: 0.4509 - accuracy: 0.7765 - auc: 0.8602 - val_loss: 0.4473 - val_accuracy: 0.7770 - val_auc: 0.8620\n",
      "Epoch 49/60\n",
      "3186/3186 [==============================] - 15s 5ms/step - loss: 0.4511 - accuracy: 0.7774 - auc: 0.8600 - val_loss: 0.4471 - val_accuracy: 0.7778 - val_auc: 0.8621\n",
      "Epoch 50/60\n",
      "3186/3186 [==============================] - 15s 5ms/step - loss: 0.4505 - accuracy: 0.7782 - auc: 0.8605 - val_loss: 0.4478 - val_accuracy: 0.7768 - val_auc: 0.8622\n",
      "Epoch 51/60\n",
      "3186/3186 [==============================] - 15s 5ms/step - loss: 0.4499 - accuracy: 0.7788 - auc: 0.8612 - val_loss: 0.4484 - val_accuracy: 0.7774 - val_auc: 0.8620\n",
      "Epoch 52/60\n",
      "3186/3186 [==============================] - 15s 5ms/step - loss: 0.4505 - accuracy: 0.7782 - auc: 0.8608 - val_loss: 0.4483 - val_accuracy: 0.7778 - val_auc: 0.8620\n",
      "Epoch 53/60\n",
      "3186/3186 [==============================] - 15s 5ms/step - loss: 0.4496 - accuracy: 0.7789 - auc: 0.8613 - val_loss: 0.4479 - val_accuracy: 0.7778 - val_auc: 0.8620\n",
      "Epoch 54/60\n",
      "3186/3186 [==============================] - 15s 5ms/step - loss: 0.4498 - accuracy: 0.7787 - auc: 0.8612 - val_loss: 0.4469 - val_accuracy: 0.7781 - val_auc: 0.8622\n",
      "Epoch 55/60\n",
      "3186/3186 [==============================] - 15s 5ms/step - loss: 0.4502 - accuracy: 0.7793 - auc: 0.8608 - val_loss: 0.4485 - val_accuracy: 0.7763 - val_auc: 0.8621\n",
      "Epoch 56/60\n",
      "3186/3186 [==============================] - 15s 5ms/step - loss: 0.4503 - accuracy: 0.7779 - auc: 0.8609 - val_loss: 0.4481 - val_accuracy: 0.7782 - val_auc: 0.8615\n",
      "Epoch 57/60\n",
      "3186/3186 [==============================] - 10s 3ms/step - loss: 0.4503 - accuracy: 0.7793 - auc: 0.8609 - val_loss: 0.4477 - val_accuracy: 0.7770 - val_auc: 0.8620\n",
      "Epoch 58/60\n",
      "3186/3186 [==============================] - 10s 3ms/step - loss: 0.4496 - accuracy: 0.7794 - auc: 0.8610 - val_loss: 0.4476 - val_accuracy: 0.7777 - val_auc: 0.8618\n",
      "Epoch 59/60\n",
      "3186/3186 [==============================] - 10s 3ms/step - loss: 0.4499 - accuracy: 0.7792 - auc: 0.8611 - val_loss: 0.4481 - val_accuracy: 0.7756 - val_auc: 0.8617\n",
      "Epoch 60/60\n",
      "3186/3186 [==============================] - 13s 4ms/step - loss: 0.4496 - accuracy: 0.7792 - auc: 0.8614 - val_loss: 0.4470 - val_accuracy: 0.7762 - val_auc: 0.8623\n"
     ]
    }
   ],
   "source": [
    "hist = model.fit(xtrain,ytrain,validation_split=0.2,epochs=60)"
   ]
  },
  {
   "cell_type": "markdown",
   "metadata": {},
   "source": [
    "#### Plot the learning curve"
   ]
  },
  {
   "cell_type": "code",
   "execution_count": 22,
   "metadata": {},
   "outputs": [
    {
     "data": {
      "image/png": "[encoded data removed]",
      "text/plain": [
       "<Figure size 1600x800 with 1 Axes>"
      ]
     },
     "metadata": {},
     "output_type": "display_data"
    }
   ],
   "source": [
    "import matplotlib.pyplot as plt\n",
    "plt.figure(figsize=(16,8))\n",
    "plt.plot(hist.history['loss'],label=['Train BCE'])\n",
    "plt.plot(hist.history['val_loss'],label=['Test BCE'])\n",
    "plt.xlabel('Epochs')\n",
    "plt.ylabel('Binary cross entropy')\n",
    "plt.title('Learning curve')\n",
    "plt.legend()\n",
    "plt.show()"
   ]
  },
  {
   "cell_type": "markdown",
   "metadata": {},
   "source": [
    "#### Evaluate model on train and test"
   ]
  },
  {
   "cell_type": "code",
   "execution_count": 23,
   "metadata": {},
   "outputs": [
    {
     "name": "stdout",
     "output_type": "stream",
     "text": [
      "3982/3982 [==============================] - 11s 3ms/step - loss: 0.4408 - accuracy: 0.7837 - auc: 0.8672\n"
     ]
    },
    {
     "data": {
      "text/plain": [
       "[0.4408006966114044, 0.783680260181427, 0.8671970367431641]"
      ]
     },
     "execution_count": 23,
     "metadata": {},
     "output_type": "execute_result"
    }
   ],
   "source": [
    "model.evaluate(xtrain,ytrain)"
   ]
  },
  {
   "cell_type": "code",
   "execution_count": 24,
   "metadata": {},
   "outputs": [
    {
     "name": "stdout",
     "output_type": "stream",
     "text": [
      "996/996 [==============================] - 3s 3ms/step - loss: 0.4580 - accuracy: 0.7723 - auc: 0.8548\n"
     ]
    },
    {
     "data": {
      "text/plain": [
       "[0.45797571539878845, 0.7722591757774353, 0.8547967672348022]"
      ]
     },
     "execution_count": 24,
     "metadata": {},
     "output_type": "execute_result"
    }
   ],
   "source": [
    "model.evaluate(xtest,ytest)"
   ]
  },
  {
   "cell_type": "markdown",
   "metadata": {},
   "source": [
    "#### Predicting train and test"
   ]
  },
  {
   "cell_type": "code",
   "execution_count": 25,
   "metadata": {},
   "outputs": [
    {
     "name": "stdout",
     "output_type": "stream",
     "text": [
      "3982/3982 [==============================] - 9s 2ms/step\n",
      "996/996 [==============================] - 2s 2ms/step\n"
     ]
    }
   ],
   "source": [
    "yprob_tr = model.predict(xtrain)\n",
    "yprob_ts = model.predict(xtest)"
   ]
  },
  {
   "cell_type": "code",
   "execution_count": 26,
   "metadata": {},
   "outputs": [
    {
     "data": {
      "text/plain": [
       "array([[0.00335445],\n",
       "       [0.29568982],\n",
       "       [0.02295773],\n",
       "       [0.07210788],\n",
       "       [0.44125006]], dtype=float32)"
      ]
     },
     "execution_count": 26,
     "metadata": {},
     "output_type": "execute_result"
    }
   ],
   "source": [
    "yprob_tr[0:5]"
   ]
  },
  {
   "cell_type": "markdown",
   "metadata": {},
   "source": [
    "#### Prediciting the results"
   ]
  },
  {
   "cell_type": "markdown",
   "metadata": {},
   "source": [
    "threshold = 0.5\n",
    "\n",
    "if prob>=0.5 then smoker else non_smoker"
   ]
  },
  {
   "cell_type": "code",
   "execution_count": 27,
   "metadata": {},
   "outputs": [],
   "source": [
    "ypred_tr = [1 if i>=0.5 else 0 for i in yprob_tr]\n",
    "ypred_ts = [1 if i>=0.5 else 0 for i in yprob_ts]"
   ]
  },
  {
   "cell_type": "code",
   "execution_count": 28,
   "metadata": {},
   "outputs": [
    {
     "data": {
      "text/plain": [
       "[0, 0, 0, 0, 0]"
      ]
     },
     "execution_count": 28,
     "metadata": {},
     "output_type": "execute_result"
    }
   ],
   "source": [
    "ypred_tr[0:5]"
   ]
  },
  {
   "cell_type": "code",
   "execution_count": 29,
   "metadata": {},
   "outputs": [
    {
     "data": {
      "text/plain": [
       "[1, 1, 1, 0, 1]"
      ]
     },
     "execution_count": 29,
     "metadata": {},
     "output_type": "execute_result"
    }
   ],
   "source": [
    "ypred_ts[0:5]"
   ]
  },
  {
   "cell_type": "markdown",
   "metadata": {},
   "source": [
    "#### Create confusion matrix for test data"
   ]
  },
  {
   "cell_type": "code",
   "execution_count": 30,
   "metadata": {},
   "outputs": [
    {
     "data": {
      "text/plain": [
       "<sklearn.metrics._plot.confusion_matrix.ConfusionMatrixDisplay at 0x264fd3f9690>"
      ]
     },
     "execution_count": 30,
     "metadata": {},
     "output_type": "execute_result"
    },
    {
     "data": {
      "image/png": "[encoded data removed]",
      "text/plain": [
       "<Figure size 640x480 with 2 Axes>"
      ]
     },
     "metadata": {},
     "output_type": "display_data"
    }
   ],
   "source": [
    "from sklearn.metrics import confusion_matrix , ConfusionMatrixDisplay\n",
    "cf = confusion_matrix(ytest,ypred_ts)\n",
    "cfd = ConfusionMatrixDisplay(cf)\n",
    "cfd.plot()\n"
   ]
  },
  {
   "cell_type": "markdown",
   "metadata": {},
   "source": [
    "#### Classification report"
   ]
  },
  {
   "cell_type": "code",
   "execution_count": 31,
   "metadata": {},
   "outputs": [
    {
     "name": "stdout",
     "output_type": "stream",
     "text": [
      "              precision    recall  f1-score   support\n",
      "\n",
      "           0       0.83      0.74      0.78     17783\n",
      "           1       0.71      0.81      0.76     14069\n",
      "\n",
      "    accuracy                           0.77     31852\n",
      "   macro avg       0.77      0.78      0.77     31852\n",
      "weighted avg       0.78      0.77      0.77     31852\n",
      "\n"
     ]
    }
   ],
   "source": [
    "from sklearn.metrics import classification_report\n",
    "print(classification_report(ytest,ypred_ts))"
   ]
  },
  {
   "cell_type": "markdown",
   "metadata": {},
   "source": [
    "#### Save the model in keras format"
   ]
  },
  {
   "cell_type": "code",
   "execution_count": 32,
   "metadata": {},
   "outputs": [],
   "source": [
    "model.save('Smokerclassification.keras')"
   ]
  },
  {
   "cell_type": "markdown",
   "metadata": {},
   "source": [
    "#### Predicting results for test_smoker.csv"
   ]
  },
  {
   "cell_type": "code",
   "execution_count": 33,
   "metadata": {},
   "outputs": [
    {
     "data": {
      "text/html": [
       "<div>\n",
       "<style scoped>\n",
       "    .dataframe tbody tr th:only-of-type {\n",
       "        vertical-align: middle;\n",
       "    }\n",
       "\n",
       "    .dataframe tbody tr th {\n",
       "        vertical-align: top;\n",
       "    }\n",
       "\n",
       "    .dataframe thead th {\n",
       "        text-align: right;\n",
       "    }\n",
       "</style>\n",
       "<table border=\"1\" class=\"dataframe\">\n",
       "  <thead>\n",
       "    <tr style=\"text-align: right;\">\n",
       "      <th></th>\n",
       "      <th>id</th>\n",
       "      <th>age</th>\n",
       "      <th>height(cm)</th>\n",
       "      <th>weight(kg)</th>\n",
       "      <th>waist(cm)</th>\n",
       "      <th>eyesight(left)</th>\n",
       "      <th>eyesight(right)</th>\n",
       "      <th>hearing(left)</th>\n",
       "      <th>hearing(right)</th>\n",
       "      <th>systolic</th>\n",
       "      <th>...</th>\n",
       "      <th>triglyceride</th>\n",
       "      <th>HDL</th>\n",
       "      <th>LDL</th>\n",
       "      <th>hemoglobin</th>\n",
       "      <th>Urine protein</th>\n",
       "      <th>serum creatinine</th>\n",
       "      <th>AST</th>\n",
       "      <th>ALT</th>\n",
       "      <th>Gtp</th>\n",
       "      <th>dental caries</th>\n",
       "    </tr>\n",
       "  </thead>\n",
       "  <tbody>\n",
       "    <tr>\n",
       "      <th>0</th>\n",
       "      <td>159256</td>\n",
       "      <td>40</td>\n",
       "      <td>165</td>\n",
       "      <td>70</td>\n",
       "      <td>84.0</td>\n",
       "      <td>1.2</td>\n",
       "      <td>1.2</td>\n",
       "      <td>1</td>\n",
       "      <td>1</td>\n",
       "      <td>130</td>\n",
       "      <td>...</td>\n",
       "      <td>186</td>\n",
       "      <td>49</td>\n",
       "      <td>115</td>\n",
       "      <td>14.2</td>\n",
       "      <td>1</td>\n",
       "      <td>0.9</td>\n",
       "      <td>19</td>\n",
       "      <td>25</td>\n",
       "      <td>32</td>\n",
       "      <td>0</td>\n",
       "    </tr>\n",
       "    <tr>\n",
       "      <th>1</th>\n",
       "      <td>159257</td>\n",
       "      <td>80</td>\n",
       "      <td>160</td>\n",
       "      <td>60</td>\n",
       "      <td>93.0</td>\n",
       "      <td>1.0</td>\n",
       "      <td>1.0</td>\n",
       "      <td>2</td>\n",
       "      <td>2</td>\n",
       "      <td>144</td>\n",
       "      <td>...</td>\n",
       "      <td>158</td>\n",
       "      <td>35</td>\n",
       "      <td>104</td>\n",
       "      <td>13.0</td>\n",
       "      <td>1</td>\n",
       "      <td>1.1</td>\n",
       "      <td>20</td>\n",
       "      <td>12</td>\n",
       "      <td>24</td>\n",
       "      <td>0</td>\n",
       "    </tr>\n",
       "    <tr>\n",
       "      <th>2</th>\n",
       "      <td>159258</td>\n",
       "      <td>60</td>\n",
       "      <td>170</td>\n",
       "      <td>70</td>\n",
       "      <td>86.5</td>\n",
       "      <td>0.6</td>\n",
       "      <td>0.7</td>\n",
       "      <td>1</td>\n",
       "      <td>1</td>\n",
       "      <td>117</td>\n",
       "      <td>...</td>\n",
       "      <td>173</td>\n",
       "      <td>39</td>\n",
       "      <td>88</td>\n",
       "      <td>15.4</td>\n",
       "      <td>1</td>\n",
       "      <td>1.4</td>\n",
       "      <td>38</td>\n",
       "      <td>60</td>\n",
       "      <td>36</td>\n",
       "      <td>0</td>\n",
       "    </tr>\n",
       "    <tr>\n",
       "      <th>3</th>\n",
       "      <td>159259</td>\n",
       "      <td>40</td>\n",
       "      <td>160</td>\n",
       "      <td>50</td>\n",
       "      <td>67.0</td>\n",
       "      <td>0.3</td>\n",
       "      <td>0.4</td>\n",
       "      <td>1</td>\n",
       "      <td>1</td>\n",
       "      <td>116</td>\n",
       "      <td>...</td>\n",
       "      <td>47</td>\n",
       "      <td>75</td>\n",
       "      <td>128</td>\n",
       "      <td>14.5</td>\n",
       "      <td>1</td>\n",
       "      <td>0.6</td>\n",
       "      <td>25</td>\n",
       "      <td>18</td>\n",
       "      <td>10</td>\n",
       "      <td>1</td>\n",
       "    </tr>\n",
       "    <tr>\n",
       "      <th>4</th>\n",
       "      <td>159260</td>\n",
       "      <td>40</td>\n",
       "      <td>170</td>\n",
       "      <td>75</td>\n",
       "      <td>89.4</td>\n",
       "      <td>1.0</td>\n",
       "      <td>0.9</td>\n",
       "      <td>1</td>\n",
       "      <td>1</td>\n",
       "      <td>132</td>\n",
       "      <td>...</td>\n",
       "      <td>100</td>\n",
       "      <td>39</td>\n",
       "      <td>123</td>\n",
       "      <td>16.5</td>\n",
       "      <td>1</td>\n",
       "      <td>1.0</td>\n",
       "      <td>30</td>\n",
       "      <td>39</td>\n",
       "      <td>27</td>\n",
       "      <td>1</td>\n",
       "    </tr>\n",
       "  </tbody>\n",
       "</table>\n",
       "<p>5 rows × 23 columns</p>\n",
       "</div>"
      ],
      "text/plain": [
       "       id  age  height(cm)  weight(kg)  waist(cm)  eyesight(left)  \\\n",
       "0  159256   40         165          70       84.0             1.2   \n",
       "1  159257   80         160          60       93.0             1.0   \n",
       "2  159258   60         170          70       86.5             0.6   \n",
       "3  159259   40         160          50       67.0             0.3   \n",
       "4  159260   40         170          75       89.4             1.0   \n",
       "\n",
       "   eyesight(right)  hearing(left)  hearing(right)  systolic  ...  \\\n",
       "0              1.2              1               1       130  ...   \n",
       "1              1.0              2               2       144  ...   \n",
       "2              0.7              1               1       117  ...   \n",
       "3              0.4              1               1       116  ...   \n",
       "4              0.9              1               1       132  ...   \n",
       "\n",
       "   triglyceride  HDL  LDL  hemoglobin  Urine protein  serum creatinine  AST  \\\n",
       "0           186   49  115        14.2              1               0.9   19   \n",
       "1           158   35  104        13.0              1               1.1   20   \n",
       "2           173   39   88        15.4              1               1.4   38   \n",
       "3            47   75  128        14.5              1               0.6   25   \n",
       "4           100   39  123        16.5              1               1.0   30   \n",
       "\n",
       "   ALT  Gtp  dental caries  \n",
       "0   25   32              0  \n",
       "1   12   24              0  \n",
       "2   60   36              0  \n",
       "3   18   10              1  \n",
       "4   39   27              1  \n",
       "\n",
       "[5 rows x 23 columns]"
      ]
     },
     "execution_count": 33,
     "metadata": {},
     "output_type": "execute_result"
    }
   ],
   "source": [
    "xnew = pd.read_csv('test_smoker.csv')\n",
    "xnew.head()"
   ]
  },
  {
   "cell_type": "code",
   "execution_count": 34,
   "metadata": {},
   "outputs": [
    {
     "data": {
      "text/html": [
       "<div>\n",
       "<style scoped>\n",
       "    .dataframe tbody tr th:only-of-type {\n",
       "        vertical-align: middle;\n",
       "    }\n",
       "\n",
       "    .dataframe tbody tr th {\n",
       "        vertical-align: top;\n",
       "    }\n",
       "\n",
       "    .dataframe thead th {\n",
       "        text-align: right;\n",
       "    }\n",
       "</style>\n",
       "<table border=\"1\" class=\"dataframe\">\n",
       "  <thead>\n",
       "    <tr style=\"text-align: right;\">\n",
       "      <th></th>\n",
       "      <th>age</th>\n",
       "      <th>height(cm)</th>\n",
       "      <th>weight(kg)</th>\n",
       "      <th>waist(cm)</th>\n",
       "      <th>eyesight(left)</th>\n",
       "      <th>eyesight(right)</th>\n",
       "      <th>hearing(left)</th>\n",
       "      <th>hearing(right)</th>\n",
       "      <th>systolic</th>\n",
       "      <th>relaxation</th>\n",
       "      <th>...</th>\n",
       "      <th>triglyceride</th>\n",
       "      <th>HDL</th>\n",
       "      <th>LDL</th>\n",
       "      <th>hemoglobin</th>\n",
       "      <th>Urine protein</th>\n",
       "      <th>serum creatinine</th>\n",
       "      <th>AST</th>\n",
       "      <th>ALT</th>\n",
       "      <th>Gtp</th>\n",
       "      <th>dental caries</th>\n",
       "    </tr>\n",
       "  </thead>\n",
       "  <tbody>\n",
       "    <tr>\n",
       "      <th>0</th>\n",
       "      <td>40</td>\n",
       "      <td>165</td>\n",
       "      <td>70</td>\n",
       "      <td>84.0</td>\n",
       "      <td>1.2</td>\n",
       "      <td>1.2</td>\n",
       "      <td>1</td>\n",
       "      <td>1</td>\n",
       "      <td>130</td>\n",
       "      <td>89</td>\n",
       "      <td>...</td>\n",
       "      <td>186</td>\n",
       "      <td>49</td>\n",
       "      <td>115</td>\n",
       "      <td>14.2</td>\n",
       "      <td>1</td>\n",
       "      <td>0.9</td>\n",
       "      <td>19</td>\n",
       "      <td>25</td>\n",
       "      <td>32</td>\n",
       "      <td>0</td>\n",
       "    </tr>\n",
       "    <tr>\n",
       "      <th>1</th>\n",
       "      <td>80</td>\n",
       "      <td>160</td>\n",
       "      <td>60</td>\n",
       "      <td>93.0</td>\n",
       "      <td>1.0</td>\n",
       "      <td>1.0</td>\n",
       "      <td>2</td>\n",
       "      <td>2</td>\n",
       "      <td>144</td>\n",
       "      <td>72</td>\n",
       "      <td>...</td>\n",
       "      <td>158</td>\n",
       "      <td>35</td>\n",
       "      <td>104</td>\n",
       "      <td>13.0</td>\n",
       "      <td>1</td>\n",
       "      <td>1.1</td>\n",
       "      <td>20</td>\n",
       "      <td>12</td>\n",
       "      <td>24</td>\n",
       "      <td>0</td>\n",
       "    </tr>\n",
       "    <tr>\n",
       "      <th>2</th>\n",
       "      <td>60</td>\n",
       "      <td>170</td>\n",
       "      <td>70</td>\n",
       "      <td>86.5</td>\n",
       "      <td>0.6</td>\n",
       "      <td>0.7</td>\n",
       "      <td>1</td>\n",
       "      <td>1</td>\n",
       "      <td>117</td>\n",
       "      <td>75</td>\n",
       "      <td>...</td>\n",
       "      <td>173</td>\n",
       "      <td>39</td>\n",
       "      <td>88</td>\n",
       "      <td>15.4</td>\n",
       "      <td>1</td>\n",
       "      <td>1.4</td>\n",
       "      <td>38</td>\n",
       "      <td>60</td>\n",
       "      <td>36</td>\n",
       "      <td>0</td>\n",
       "    </tr>\n",
       "    <tr>\n",
       "      <th>3</th>\n",
       "      <td>40</td>\n",
       "      <td>160</td>\n",
       "      <td>50</td>\n",
       "      <td>67.0</td>\n",
       "      <td>0.3</td>\n",
       "      <td>0.4</td>\n",
       "      <td>1</td>\n",
       "      <td>1</td>\n",
       "      <td>116</td>\n",
       "      <td>62</td>\n",
       "      <td>...</td>\n",
       "      <td>47</td>\n",
       "      <td>75</td>\n",
       "      <td>128</td>\n",
       "      <td>14.5</td>\n",
       "      <td>1</td>\n",
       "      <td>0.6</td>\n",
       "      <td>25</td>\n",
       "      <td>18</td>\n",
       "      <td>10</td>\n",
       "      <td>1</td>\n",
       "    </tr>\n",
       "    <tr>\n",
       "      <th>4</th>\n",
       "      <td>40</td>\n",
       "      <td>170</td>\n",
       "      <td>75</td>\n",
       "      <td>89.4</td>\n",
       "      <td>1.0</td>\n",
       "      <td>0.9</td>\n",
       "      <td>1</td>\n",
       "      <td>1</td>\n",
       "      <td>132</td>\n",
       "      <td>94</td>\n",
       "      <td>...</td>\n",
       "      <td>100</td>\n",
       "      <td>39</td>\n",
       "      <td>123</td>\n",
       "      <td>16.5</td>\n",
       "      <td>1</td>\n",
       "      <td>1.0</td>\n",
       "      <td>30</td>\n",
       "      <td>39</td>\n",
       "      <td>27</td>\n",
       "      <td>1</td>\n",
       "    </tr>\n",
       "  </tbody>\n",
       "</table>\n",
       "<p>5 rows × 22 columns</p>\n",
       "</div>"
      ],
      "text/plain": [
       "   age  height(cm)  weight(kg)  waist(cm)  eyesight(left)  eyesight(right)  \\\n",
       "0   40         165          70       84.0             1.2              1.2   \n",
       "1   80         160          60       93.0             1.0              1.0   \n",
       "2   60         170          70       86.5             0.6              0.7   \n",
       "3   40         160          50       67.0             0.3              0.4   \n",
       "4   40         170          75       89.4             1.0              0.9   \n",
       "\n",
       "   hearing(left)  hearing(right)  systolic  relaxation  ...  triglyceride  \\\n",
       "0              1               1       130          89  ...           186   \n",
       "1              2               2       144          72  ...           158   \n",
       "2              1               1       117          75  ...           173   \n",
       "3              1               1       116          62  ...            47   \n",
       "4              1               1       132          94  ...           100   \n",
       "\n",
       "   HDL  LDL  hemoglobin  Urine protein  serum creatinine  AST  ALT  Gtp  \\\n",
       "0   49  115        14.2              1               0.9   19   25   32   \n",
       "1   35  104        13.0              1               1.1   20   12   24   \n",
       "2   39   88        15.4              1               1.4   38   60   36   \n",
       "3   75  128        14.5              1               0.6   25   18   10   \n",
       "4   39  123        16.5              1               1.0   30   39   27   \n",
       "\n",
       "   dental caries  \n",
       "0              0  \n",
       "1              0  \n",
       "2              0  \n",
       "3              1  \n",
       "4              1  \n",
       "\n",
       "[5 rows x 22 columns]"
      ]
     },
     "execution_count": 34,
     "metadata": {},
     "output_type": "execute_result"
    }
   ],
   "source": [
    "xnew2 = xnew.drop(columns=['id'])\n",
    "xnew2.head()"
   ]
  },
  {
   "cell_type": "markdown",
   "metadata": {},
   "source": [
    "#### For new predictions always apply .transform"
   ]
  },
  {
   "cell_type": "code",
   "execution_count": 35,
   "metadata": {},
   "outputs": [
    {
     "data": {
      "text/plain": [
       "array([[-0.36366622, -0.03026766,  0.22694281, ..., -0.08732581,\n",
       "        -0.13510867, -0.49686626],\n",
       "       [ 3.01407065, -0.59722908, -0.56758078, ..., -0.81959582,\n",
       "        -0.39148158, -0.49686626],\n",
       "       [ 1.32520222,  0.53669377,  0.22694281, ...,  1.88417036,\n",
       "        -0.00692221, -0.49686626],\n",
       "       ...,\n",
       "       [-0.78588333,  0.53669377,  1.4187282 , ...,  0.30697342,\n",
       "        -0.39148158,  2.01261403],\n",
       "       [-0.36366622, -0.59722908, -0.56758078, ...,  0.53228727,\n",
       "        -0.13510867, -0.49686626],\n",
       "       [ 0.480768  , -1.73115193, -1.36210438, ..., -0.87592428,\n",
       "        -0.61580788,  2.01261403]])"
      ]
     },
     "execution_count": 35,
     "metadata": {},
     "output_type": "execute_result"
    }
   ],
   "source": [
    "xnew2_pre = num_pipe.transform(xnew2)\n",
    "xnew2_pre"
   ]
  },
  {
   "cell_type": "code",
   "execution_count": 36,
   "metadata": {},
   "outputs": [
    {
     "data": {
      "text/html": [
       "<div>\n",
       "<style scoped>\n",
       "    .dataframe tbody tr th:only-of-type {\n",
       "        vertical-align: middle;\n",
       "    }\n",
       "\n",
       "    .dataframe tbody tr th {\n",
       "        vertical-align: top;\n",
       "    }\n",
       "\n",
       "    .dataframe thead th {\n",
       "        text-align: right;\n",
       "    }\n",
       "</style>\n",
       "<table border=\"1\" class=\"dataframe\">\n",
       "  <thead>\n",
       "    <tr style=\"text-align: right;\">\n",
       "      <th></th>\n",
       "      <th>age</th>\n",
       "      <th>height(cm)</th>\n",
       "      <th>weight(kg)</th>\n",
       "      <th>waist(cm)</th>\n",
       "      <th>eyesight(left)</th>\n",
       "      <th>eyesight(right)</th>\n",
       "      <th>hearing(left)</th>\n",
       "      <th>hearing(right)</th>\n",
       "      <th>systolic</th>\n",
       "      <th>relaxation</th>\n",
       "      <th>...</th>\n",
       "      <th>triglyceride</th>\n",
       "      <th>HDL</th>\n",
       "      <th>LDL</th>\n",
       "      <th>hemoglobin</th>\n",
       "      <th>Urine protein</th>\n",
       "      <th>serum creatinine</th>\n",
       "      <th>AST</th>\n",
       "      <th>ALT</th>\n",
       "      <th>Gtp</th>\n",
       "      <th>dental caries</th>\n",
       "    </tr>\n",
       "  </thead>\n",
       "  <tbody>\n",
       "    <tr>\n",
       "      <th>0</th>\n",
       "      <td>-0.363666</td>\n",
       "      <td>-0.030268</td>\n",
       "      <td>0.226943</td>\n",
       "      <td>0.111411</td>\n",
       "      <td>0.482955</td>\n",
       "      <td>0.507296</td>\n",
       "      <td>-0.156725</td>\n",
       "      <td>-0.154865</td>\n",
       "      <td>0.588906</td>\n",
       "      <td>1.348132</td>\n",
       "      <td>...</td>\n",
       "      <td>0.882082</td>\n",
       "      <td>-0.490736</td>\n",
       "      <td>0.013932</td>\n",
       "      <td>-0.417106</td>\n",
       "      <td>-0.213401</td>\n",
       "      <td>0.040344</td>\n",
       "      <td>-0.688532</td>\n",
       "      <td>-0.087326</td>\n",
       "      <td>-0.135109</td>\n",
       "      <td>-0.496866</td>\n",
       "    </tr>\n",
       "    <tr>\n",
       "      <th>1</th>\n",
       "      <td>3.014071</td>\n",
       "      <td>-0.597229</td>\n",
       "      <td>-0.567581</td>\n",
       "      <td>1.116110</td>\n",
       "      <td>-0.014419</td>\n",
       "      <td>-0.002521</td>\n",
       "      <td>6.380587</td>\n",
       "      <td>6.457242</td>\n",
       "      <td>1.688733</td>\n",
       "      <td>-0.541888</td>\n",
       "      <td>...</td>\n",
       "      <td>0.459050</td>\n",
       "      <td>-1.493307</td>\n",
       "      <td>-0.376709</td>\n",
       "      <td>-1.255558</td>\n",
       "      <td>-0.213401</td>\n",
       "      <td>1.155511</td>\n",
       "      <td>-0.582878</td>\n",
       "      <td>-0.819596</td>\n",
       "      <td>-0.391482</td>\n",
       "      <td>-0.496866</td>\n",
       "    </tr>\n",
       "    <tr>\n",
       "      <th>2</th>\n",
       "      <td>1.325202</td>\n",
       "      <td>0.536694</td>\n",
       "      <td>0.226943</td>\n",
       "      <td>0.390494</td>\n",
       "      <td>-1.009169</td>\n",
       "      <td>-0.767247</td>\n",
       "      <td>-0.156725</td>\n",
       "      <td>-0.154865</td>\n",
       "      <td>-0.432361</td>\n",
       "      <td>-0.208355</td>\n",
       "      <td>...</td>\n",
       "      <td>0.685674</td>\n",
       "      <td>-1.206858</td>\n",
       "      <td>-0.944914</td>\n",
       "      <td>0.421347</td>\n",
       "      <td>-0.213401</td>\n",
       "      <td>2.828261</td>\n",
       "      <td>1.318895</td>\n",
       "      <td>1.884170</td>\n",
       "      <td>-0.006922</td>\n",
       "      <td>-0.496866</td>\n",
       "    </tr>\n",
       "    <tr>\n",
       "      <th>3</th>\n",
       "      <td>-0.363666</td>\n",
       "      <td>-0.597229</td>\n",
       "      <td>-1.362104</td>\n",
       "      <td>-1.786353</td>\n",
       "      <td>-1.755231</td>\n",
       "      <td>-1.531973</td>\n",
       "      <td>-0.156725</td>\n",
       "      <td>-0.154865</td>\n",
       "      <td>-0.510921</td>\n",
       "      <td>-1.653664</td>\n",
       "      <td>...</td>\n",
       "      <td>-1.217971</td>\n",
       "      <td>1.371182</td>\n",
       "      <td>0.475599</td>\n",
       "      <td>-0.207493</td>\n",
       "      <td>-0.213401</td>\n",
       "      <td>-1.632406</td>\n",
       "      <td>-0.054608</td>\n",
       "      <td>-0.481625</td>\n",
       "      <td>-0.840134</td>\n",
       "      <td>2.012614</td>\n",
       "    </tr>\n",
       "    <tr>\n",
       "      <th>4</th>\n",
       "      <td>-0.363666</td>\n",
       "      <td>0.536694</td>\n",
       "      <td>0.624205</td>\n",
       "      <td>0.714230</td>\n",
       "      <td>-0.014419</td>\n",
       "      <td>-0.257430</td>\n",
       "      <td>-0.156725</td>\n",
       "      <td>-0.154865</td>\n",
       "      <td>0.746025</td>\n",
       "      <td>1.904021</td>\n",
       "      <td>...</td>\n",
       "      <td>-0.417232</td>\n",
       "      <td>-1.206858</td>\n",
       "      <td>0.298035</td>\n",
       "      <td>1.189928</td>\n",
       "      <td>-0.213401</td>\n",
       "      <td>0.597927</td>\n",
       "      <td>0.473663</td>\n",
       "      <td>0.701273</td>\n",
       "      <td>-0.295342</td>\n",
       "      <td>2.012614</td>\n",
       "    </tr>\n",
       "  </tbody>\n",
       "</table>\n",
       "<p>5 rows × 22 columns</p>\n",
       "</div>"
      ],
      "text/plain": [
       "        age  height(cm)  weight(kg)  waist(cm)  eyesight(left)  \\\n",
       "0 -0.363666   -0.030268    0.226943   0.111411        0.482955   \n",
       "1  3.014071   -0.597229   -0.567581   1.116110       -0.014419   \n",
       "2  1.325202    0.536694    0.226943   0.390494       -1.009169   \n",
       "3 -0.363666   -0.597229   -1.362104  -1.786353       -1.755231   \n",
       "4 -0.363666    0.536694    0.624205   0.714230       -0.014419   \n",
       "\n",
       "   eyesight(right)  hearing(left)  hearing(right)  systolic  relaxation  ...  \\\n",
       "0         0.507296      -0.156725       -0.154865  0.588906    1.348132  ...   \n",
       "1        -0.002521       6.380587        6.457242  1.688733   -0.541888  ...   \n",
       "2        -0.767247      -0.156725       -0.154865 -0.432361   -0.208355  ...   \n",
       "3        -1.531973      -0.156725       -0.154865 -0.510921   -1.653664  ...   \n",
       "4        -0.257430      -0.156725       -0.154865  0.746025    1.904021  ...   \n",
       "\n",
       "   triglyceride       HDL       LDL  hemoglobin  Urine protein  \\\n",
       "0      0.882082 -0.490736  0.013932   -0.417106      -0.213401   \n",
       "1      0.459050 -1.493307 -0.376709   -1.255558      -0.213401   \n",
       "2      0.685674 -1.206858 -0.944914    0.421347      -0.213401   \n",
       "3     -1.217971  1.371182  0.475599   -0.207493      -0.213401   \n",
       "4     -0.417232 -1.206858  0.298035    1.189928      -0.213401   \n",
       "\n",
       "   serum creatinine       AST       ALT       Gtp  dental caries  \n",
       "0          0.040344 -0.688532 -0.087326 -0.135109      -0.496866  \n",
       "1          1.155511 -0.582878 -0.819596 -0.391482      -0.496866  \n",
       "2          2.828261  1.318895  1.884170 -0.006922      -0.496866  \n",
       "3         -1.632406 -0.054608 -0.481625 -0.840134       2.012614  \n",
       "4          0.597927  0.473663  0.701273 -0.295342       2.012614  \n",
       "\n",
       "[5 rows x 22 columns]"
      ]
     },
     "execution_count": 36,
     "metadata": {},
     "output_type": "execute_result"
    }
   ],
   "source": [
    "xnew2_pre = pd.DataFrame(xnew2_pre,columns=cols)\n",
    "xnew2_pre.head()"
   ]
  },
  {
   "cell_type": "markdown",
   "metadata": {},
   "source": [
    "#### Get the probabilities for predictions"
   ]
  },
  {
   "cell_type": "code",
   "execution_count": 37,
   "metadata": {},
   "outputs": [
    {
     "name": "stdout",
     "output_type": "stream",
     "text": [
      "   1/3318 [..............................] - ETA: 3:18"
     ]
    },
    {
     "name": "stdout",
     "output_type": "stream",
     "text": [
      "3318/3318 [==============================] - 7s 2ms/step\n"
     ]
    },
    {
     "data": {
      "text/plain": [
       "array([[0.6232659 ],\n",
       "       [0.32608294],\n",
       "       [0.39253232],\n",
       "       ...,\n",
       "       [0.4210308 ],\n",
       "       [0.09336577],\n",
       "       [0.02143146]], dtype=float32)"
      ]
     },
     "execution_count": 37,
     "metadata": {},
     "output_type": "execute_result"
    }
   ],
   "source": [
    "prob = model.predict(xnew2_pre)\n",
    "prob"
   ]
  },
  {
   "cell_type": "code",
   "execution_count": 38,
   "metadata": {},
   "outputs": [
    {
     "data": {
      "text/plain": [
       "array([[0.6232659 ],\n",
       "       [0.32608294],\n",
       "       [0.39253232],\n",
       "       ...,\n",
       "       [0.4210308 ],\n",
       "       [0.09336577],\n",
       "       [0.02143146]], dtype=float32)"
      ]
     },
     "execution_count": 38,
     "metadata": {},
     "output_type": "execute_result"
    }
   ],
   "source": [
    "prob"
   ]
  },
  {
   "cell_type": "code",
   "execution_count": 39,
   "metadata": {},
   "outputs": [],
   "source": [
    "pred = [1 if i>=0.5 else 0 for i in prob]\n"
   ]
  },
  {
   "cell_type": "code",
   "execution_count": 40,
   "metadata": {},
   "outputs": [
    {
     "data": {
      "text/plain": [
       "[1, 0, 0, 0, 1]"
      ]
     },
     "execution_count": 40,
     "metadata": {},
     "output_type": "execute_result"
    }
   ],
   "source": [
    "pred[0:5]"
   ]
  },
  {
   "cell_type": "markdown",
   "metadata": {},
   "source": [
    "#### save the values in dataframe"
   ]
  },
  {
   "cell_type": "code",
   "execution_count": 41,
   "metadata": {},
   "outputs": [
    {
     "data": {
      "text/html": [
       "<div>\n",
       "<style scoped>\n",
       "    .dataframe tbody tr th:only-of-type {\n",
       "        vertical-align: middle;\n",
       "    }\n",
       "\n",
       "    .dataframe tbody tr th {\n",
       "        vertical-align: top;\n",
       "    }\n",
       "\n",
       "    .dataframe thead th {\n",
       "        text-align: right;\n",
       "    }\n",
       "</style>\n",
       "<table border=\"1\" class=\"dataframe\">\n",
       "  <thead>\n",
       "    <tr style=\"text-align: right;\">\n",
       "      <th></th>\n",
       "      <th>id</th>\n",
       "    </tr>\n",
       "  </thead>\n",
       "  <tbody>\n",
       "    <tr>\n",
       "      <th>0</th>\n",
       "      <td>159256</td>\n",
       "    </tr>\n",
       "    <tr>\n",
       "      <th>1</th>\n",
       "      <td>159257</td>\n",
       "    </tr>\n",
       "    <tr>\n",
       "      <th>2</th>\n",
       "      <td>159258</td>\n",
       "    </tr>\n",
       "    <tr>\n",
       "      <th>3</th>\n",
       "      <td>159259</td>\n",
       "    </tr>\n",
       "    <tr>\n",
       "      <th>4</th>\n",
       "      <td>159260</td>\n",
       "    </tr>\n",
       "    <tr>\n",
       "      <th>...</th>\n",
       "      <td>...</td>\n",
       "    </tr>\n",
       "    <tr>\n",
       "      <th>106166</th>\n",
       "      <td>265422</td>\n",
       "    </tr>\n",
       "    <tr>\n",
       "      <th>106167</th>\n",
       "      <td>265423</td>\n",
       "    </tr>\n",
       "    <tr>\n",
       "      <th>106168</th>\n",
       "      <td>265424</td>\n",
       "    </tr>\n",
       "    <tr>\n",
       "      <th>106169</th>\n",
       "      <td>265425</td>\n",
       "    </tr>\n",
       "    <tr>\n",
       "      <th>106170</th>\n",
       "      <td>265426</td>\n",
       "    </tr>\n",
       "  </tbody>\n",
       "</table>\n",
       "<p>106171 rows × 1 columns</p>\n",
       "</div>"
      ],
      "text/plain": [
       "            id\n",
       "0       159256\n",
       "1       159257\n",
       "2       159258\n",
       "3       159259\n",
       "4       159260\n",
       "...        ...\n",
       "106166  265422\n",
       "106167  265423\n",
       "106168  265424\n",
       "106169  265425\n",
       "106170  265426\n",
       "\n",
       "[106171 rows x 1 columns]"
      ]
     },
     "execution_count": 41,
     "metadata": {},
     "output_type": "execute_result"
    }
   ],
   "source": [
    "df_final = xnew[['id']]\n",
    "df_final"
   ]
  },
  {
   "cell_type": "code",
   "execution_count": 42,
   "metadata": {},
   "outputs": [],
   "source": [
    "df_final['smoker_pred']=pred\n",
    "df_final['smoker_prob']=prob"
   ]
  },
  {
   "cell_type": "code",
   "execution_count": 43,
   "metadata": {},
   "outputs": [
    {
     "data": {
      "text/html": [
       "<div>\n",
       "<style scoped>\n",
       "    .dataframe tbody tr th:only-of-type {\n",
       "        vertical-align: middle;\n",
       "    }\n",
       "\n",
       "    .dataframe tbody tr th {\n",
       "        vertical-align: top;\n",
       "    }\n",
       "\n",
       "    .dataframe thead th {\n",
       "        text-align: right;\n",
       "    }\n",
       "</style>\n",
       "<table border=\"1\" class=\"dataframe\">\n",
       "  <thead>\n",
       "    <tr style=\"text-align: right;\">\n",
       "      <th></th>\n",
       "      <th>id</th>\n",
       "      <th>smoker_pred</th>\n",
       "      <th>smoker_prob</th>\n",
       "    </tr>\n",
       "  </thead>\n",
       "  <tbody>\n",
       "    <tr>\n",
       "      <th>0</th>\n",
       "      <td>159256</td>\n",
       "      <td>1</td>\n",
       "      <td>0.623266</td>\n",
       "    </tr>\n",
       "    <tr>\n",
       "      <th>1</th>\n",
       "      <td>159257</td>\n",
       "      <td>0</td>\n",
       "      <td>0.326083</td>\n",
       "    </tr>\n",
       "    <tr>\n",
       "      <th>2</th>\n",
       "      <td>159258</td>\n",
       "      <td>0</td>\n",
       "      <td>0.392532</td>\n",
       "    </tr>\n",
       "    <tr>\n",
       "      <th>3</th>\n",
       "      <td>159259</td>\n",
       "      <td>0</td>\n",
       "      <td>0.015622</td>\n",
       "    </tr>\n",
       "    <tr>\n",
       "      <th>4</th>\n",
       "      <td>159260</td>\n",
       "      <td>1</td>\n",
       "      <td>0.620518</td>\n",
       "    </tr>\n",
       "    <tr>\n",
       "      <th>...</th>\n",
       "      <td>...</td>\n",
       "      <td>...</td>\n",
       "      <td>...</td>\n",
       "    </tr>\n",
       "    <tr>\n",
       "      <th>106166</th>\n",
       "      <td>265422</td>\n",
       "      <td>0</td>\n",
       "      <td>0.489941</td>\n",
       "    </tr>\n",
       "    <tr>\n",
       "      <th>106167</th>\n",
       "      <td>265423</td>\n",
       "      <td>1</td>\n",
       "      <td>0.724912</td>\n",
       "    </tr>\n",
       "    <tr>\n",
       "      <th>106168</th>\n",
       "      <td>265424</td>\n",
       "      <td>0</td>\n",
       "      <td>0.421031</td>\n",
       "    </tr>\n",
       "    <tr>\n",
       "      <th>106169</th>\n",
       "      <td>265425</td>\n",
       "      <td>0</td>\n",
       "      <td>0.093366</td>\n",
       "    </tr>\n",
       "    <tr>\n",
       "      <th>106170</th>\n",
       "      <td>265426</td>\n",
       "      <td>0</td>\n",
       "      <td>0.021431</td>\n",
       "    </tr>\n",
       "  </tbody>\n",
       "</table>\n",
       "<p>106171 rows × 3 columns</p>\n",
       "</div>"
      ],
      "text/plain": [
       "            id  smoker_pred  smoker_prob\n",
       "0       159256            1     0.623266\n",
       "1       159257            0     0.326083\n",
       "2       159258            0     0.392532\n",
       "3       159259            0     0.015622\n",
       "4       159260            1     0.620518\n",
       "...        ...          ...          ...\n",
       "106166  265422            0     0.489941\n",
       "106167  265423            1     0.724912\n",
       "106168  265424            0     0.421031\n",
       "106169  265425            0     0.093366\n",
       "106170  265426            0     0.021431\n",
       "\n",
       "[106171 rows x 3 columns]"
      ]
     },
     "execution_count": 43,
     "metadata": {},
     "output_type": "execute_result"
    }
   ],
   "source": [
    "df_final"
   ]
  },
  {
   "cell_type": "code",
   "execution_count": 44,
   "metadata": {},
   "outputs": [
    {
     "data": {
      "text/plain": [
       "smoker_pred\n",
       "0    53775\n",
       "1    52396\n",
       "Name: count, dtype: int64"
      ]
     },
     "execution_count": 44,
     "metadata": {},
     "output_type": "execute_result"
    }
   ],
   "source": [
    "df_final['smoker_pred'].value_counts()"
   ]
  },
  {
   "cell_type": "code",
   "execution_count": 45,
   "metadata": {},
   "outputs": [
    {
     "data": {
      "text/plain": [
       "<Axes: xlabel='smoker_pred'>"
      ]
     },
     "execution_count": 45,
     "metadata": {},
     "output_type": "execute_result"
    },
    {
     "data": {
      "image/png": "[encoded data removed]",
      "text/plain": [
       "<Figure size 640x480 with 1 Axes>"
      ]
     },
     "metadata": {},
     "output_type": "display_data"
    }
   ],
   "source": [
    "df_final['smoker_pred'].value_counts().plot(kind='bar')"
   ]
  },
  {
   "cell_type": "markdown",
   "metadata": {},
   "source": [
    "#### save df_final to csv file"
   ]
  },
  {
   "cell_type": "code",
   "execution_count": 1,
   "metadata": {},
   "outputs": [
    {
     "ename": "NameError",
     "evalue": "name 'df_final' is not defined",
     "output_type": "error",
     "traceback": [
      "\u001b[1;31m---------------------------------------------------------------------------\u001b[0m",
      "\u001b[1;31mNameError\u001b[0m                                 Traceback (most recent call last)",
      "\u001b[1;32mf:\\Deep learning p\\repository\\Binary Classification\\Binaryclassification.ipynb Cell 69\u001b[0m line \u001b[0;36m1\n\u001b[1;32m----> <a href='vscode-notebook-cell:/f%3A/Deep%20learning%20p/repository/Binary%20Classification/Binaryclassification.ipynb#Y125sZmlsZQ%3D%3D?line=0'>1</a>\u001b[0m df_final\u001b[39m.\u001b[39mto_csv(\u001b[39m'\u001b[39m\u001b[39mResults.csv\u001b[39m\u001b[39m'\u001b[39m,index\u001b[39m=\u001b[39m\u001b[39mFalse\u001b[39;00m)\n",
      "\u001b[1;31mNameError\u001b[0m: name 'df_final' is not defined"
     ]
    }
   ],
   "source": [
    "df_final.to_csv('Results.csv',index=False)"
   ]
  },
  {
   "cell_type": "code",
   "execution_count": null,
   "metadata": {},
   "outputs": [],
   "source": []
  }
 ],
 "metadata": {
  "kernelspec": {
   "display_name": "venv",
   "language": "python",
   "name": "python3"
  },
  "language_info": {
   "codemirror_mode": {
    "name": "ipython",
    "version": 3
   },
   "file_extension": ".py",
   "mimetype": "text/x-python",
   "name": "python",
   "nbconvert_exporter": "python",
   "pygments_lexer": "ipython3",
   "version": "3.10.4"
  }
 },
 "nbformat": 4,
 "nbformat_minor": 2
}
